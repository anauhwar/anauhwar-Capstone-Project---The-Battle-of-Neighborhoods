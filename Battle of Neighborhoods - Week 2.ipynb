{
 "cells": [
  {
   "cell_type": "markdown",
   "metadata": {},
   "source": [
    "# Coursera Capstone Project\n",
    "## By Akash Nauhwar\n"
   ]
  },
  {
   "cell_type": "markdown",
   "metadata": {},
   "source": [
    "## Battle of Neighborhoods- Mumbai Location"
   ]
  },
  {
   "cell_type": "code",
   "execution_count": 25,
   "metadata": {},
   "outputs": [
    {
     "name": "stdout",
     "output_type": "stream",
     "text": [
      "Libraries imported.\n"
     ]
    },
    {
     "name": "stderr",
     "output_type": "stream",
     "text": [
      "usage: conda-script.py [-h] [-V] command ...\n",
      "conda-script.py: error: unrecognized arguments: # uncomment this line if you haven't completed the Foursquare API lab\n"
     ]
    }
   ],
   "source": [
    "import numpy as np # library to handle data in a vectorized manner\n",
    "import time\n",
    "import pandas as pd # library for data analsysis\n",
    "pd.set_option('display.max_columns', None)\n",
    "pd.set_option('display.max_rows', None)\n",
    "\n",
    "import json # library to handle JSON files\n",
    "import requests # library to handle requests\n",
    "from pandas.io.json import json_normalize # tranform JSON file into a pandas dataframe\n",
    "\n",
    "from geopy.geocoders import Nominatim # convert an address into latitude and longitude values\n",
    "!conda install -c conda-forge folium=0.5.0 --yes # uncomment this line if you haven't completed the Foursquare API lab\n",
    "import folium # map rendering library\n",
    "\n",
    "print('Libraries imported.')"
   ]
  },
  {
   "cell_type": "code",
   "execution_count": 26,
   "metadata": {},
   "outputs": [
    {
     "name": "stderr",
     "output_type": "stream",
     "text": [
      "C:\\Users\\vishalshivhare\\anaconda3\\lib\\site-packages\\ipykernel_launcher.py:4: DeprecationWarning: Using Nominatim with the default \"geopy/1.21.0\" `user_agent` is strongly discouraged, as it violates Nominatim's ToS https://operations.osmfoundation.org/policies/nominatim/ and may possibly cause 403 and 429 HTTP errors. Please specify a custom `user_agent` with `Nominatim(user_agent=\"my-application\")` or by overriding the default `user_agent`: `geopy.geocoders.options.default_user_agent = \"my-application\"`. In geopy 2.0 this will become an exception.\n",
      "  after removing the cwd from sys.path.\n"
     ]
    },
    {
     "name": "stdout",
     "output_type": "stream",
     "text": [
      "The geograpical coordinate of India home are 18.929456, 72.8330142.\n"
     ]
    }
   ],
   "source": [
    "# Shenton Way, District 01, Singapore\n",
    "address = 'Dalal Street, India'\n",
    "\n",
    "geolocator = Nominatim()\n",
    "location = geolocator.geocode(address)\n",
    "latitude = location.latitude\n",
    "longitude = location.longitude\n",
    "print('The geograpical coordinate of India home are {}, {}.'.format(latitude, longitude))"
   ]
  },
  {
   "cell_type": "code",
   "execution_count": 27,
   "metadata": {},
   "outputs": [],
   "source": [
    "neighborhood_latitude=18.929456\n",
    "neighborhood_longitude=72.8330142"
   ]
  },
  {
   "cell_type": "code",
   "execution_count": 28,
   "metadata": {},
   "outputs": [
    {
     "data": {
      "text/plain": [
       "'https://api.foursquare.com/v2/venues/explore?&client_id=N3ZEHLLYSNG5PZDCCVNXJDBYF45V0PJOBWQ22RGPOTBD55YL&client_secret=TONUC031ELDBU0QNTEDNL1XQODIIDGBOCVYSRTXPST2H12HI&v=20180604&ll=18.929456,72.8330142&radius=500&limit=100'"
      ]
     },
     "execution_count": 28,
     "metadata": {},
     "output_type": "execute_result"
    }
   ],
   "source": [
    "\n",
    "LIMIT = 100 # limit of number of venues returned by Foursquare API\n",
    "radius = 500 # define radius\n",
    "\n",
    "# create URL\n",
    "url = 'https://api.foursquare.com/v2/venues/explore?&client_id={}&client_secret={}&v={}&ll={},{}&radius={}&limit={}'.format(\n",
    "    'N3ZEHLLYSNG5PZDCCVNXJDBYF45V0PJOBWQ22RGPOTBD55YL', \n",
    "    'TONUC031ELDBU0QNTEDNL1XQODIIDGBOCVYSRTXPST2H12HI', \n",
    "    '20180604', \n",
    "    neighborhood_latitude, \n",
    "    neighborhood_longitude, \n",
    "    radius, \n",
    "    LIMIT)\n",
    "url # display URL"
   ]
  },
  {
   "cell_type": "code",
   "execution_count": 29,
   "metadata": {},
   "outputs": [],
   "source": [
    "results = requests.get(url).json()\n",
    "#results"
   ]
  },
  {
   "cell_type": "code",
   "execution_count": 30,
   "metadata": {},
   "outputs": [],
   "source": [
    "# function that extracts the category of the venue\n",
    "def get_category_type(row):\n",
    "    try:\n",
    "        categories_list = row['categories']\n",
    "    except:\n",
    "        categories_list = row['venue.categories']\n",
    "        \n",
    "    if len(categories_list) == 0:\n",
    "        return None\n",
    "    else:\n",
    "        return categories_list[0]['name']"
   ]
  },
  {
   "cell_type": "code",
   "execution_count": 31,
   "metadata": {},
   "outputs": [
    {
     "name": "stderr",
     "output_type": "stream",
     "text": [
      "C:\\Users\\vishalshivhare\\anaconda3\\lib\\site-packages\\ipykernel_launcher.py:3: FutureWarning: pandas.io.json.json_normalize is deprecated, use pandas.json_normalize instead\n",
      "  This is separate from the ipykernel package so we can avoid doing imports until\n"
     ]
    },
    {
     "data": {
      "text/html": [
       "<div>\n",
       "<style scoped>\n",
       "    .dataframe tbody tr th:only-of-type {\n",
       "        vertical-align: middle;\n",
       "    }\n",
       "\n",
       "    .dataframe tbody tr th {\n",
       "        vertical-align: top;\n",
       "    }\n",
       "\n",
       "    .dataframe thead th {\n",
       "        text-align: right;\n",
       "    }\n",
       "</style>\n",
       "<table border=\"1\" class=\"dataframe\">\n",
       "  <thead>\n",
       "    <tr style=\"text-align: right;\">\n",
       "      <th></th>\n",
       "      <th>name</th>\n",
       "      <th>categories</th>\n",
       "      <th>lat</th>\n",
       "      <th>lng</th>\n",
       "    </tr>\n",
       "  </thead>\n",
       "  <tbody>\n",
       "    <tr>\n",
       "      <th>0</th>\n",
       "      <td>Trishna</td>\n",
       "      <td>Seafood Restaurant</td>\n",
       "      <td>18.928619</td>\n",
       "      <td>72.832356</td>\n",
       "    </tr>\n",
       "    <tr>\n",
       "      <th>1</th>\n",
       "      <td>La Folie Patisserie</td>\n",
       "      <td>Dessert Shop</td>\n",
       "      <td>18.928504</td>\n",
       "      <td>72.832315</td>\n",
       "    </tr>\n",
       "    <tr>\n",
       "      <th>2</th>\n",
       "      <td>Filter</td>\n",
       "      <td>Gift Shop</td>\n",
       "      <td>18.928312</td>\n",
       "      <td>72.832643</td>\n",
       "    </tr>\n",
       "    <tr>\n",
       "      <th>3</th>\n",
       "      <td>Jehangir Art Gallery</td>\n",
       "      <td>Art Gallery</td>\n",
       "      <td>18.927606</td>\n",
       "      <td>72.831464</td>\n",
       "    </tr>\n",
       "    <tr>\n",
       "      <th>4</th>\n",
       "      <td>The Nutcracker</td>\n",
       "      <td>Breakfast Spot</td>\n",
       "      <td>18.928509</td>\n",
       "      <td>72.833683</td>\n",
       "    </tr>\n",
       "    <tr>\n",
       "      <th>5</th>\n",
       "      <td>The Irish House</td>\n",
       "      <td>Bar</td>\n",
       "      <td>18.927797</td>\n",
       "      <td>72.832295</td>\n",
       "    </tr>\n",
       "    <tr>\n",
       "      <th>6</th>\n",
       "      <td>Golden Dragon</td>\n",
       "      <td>Chinese Restaurant</td>\n",
       "      <td>18.928479</td>\n",
       "      <td>72.832493</td>\n",
       "    </tr>\n",
       "    <tr>\n",
       "      <th>7</th>\n",
       "      <td>Burma Burma</td>\n",
       "      <td>Asian Restaurant</td>\n",
       "      <td>18.929590</td>\n",
       "      <td>72.832043</td>\n",
       "    </tr>\n",
       "    <tr>\n",
       "      <th>8</th>\n",
       "      <td>H Parmesha Fast Food Corner</td>\n",
       "      <td>Fast Food Restaurant</td>\n",
       "      <td>18.930392</td>\n",
       "      <td>72.833549</td>\n",
       "    </tr>\n",
       "    <tr>\n",
       "      <th>9</th>\n",
       "      <td>Kala Ghoda Café</td>\n",
       "      <td>Café</td>\n",
       "      <td>18.928515</td>\n",
       "      <td>72.832354</td>\n",
       "    </tr>\n",
       "  </tbody>\n",
       "</table>\n",
       "</div>"
      ],
      "text/plain": [
       "                          name            categories        lat        lng\n",
       "0                      Trishna    Seafood Restaurant  18.928619  72.832356\n",
       "1          La Folie Patisserie          Dessert Shop  18.928504  72.832315\n",
       "2                       Filter             Gift Shop  18.928312  72.832643\n",
       "3         Jehangir Art Gallery           Art Gallery  18.927606  72.831464\n",
       "4               The Nutcracker        Breakfast Spot  18.928509  72.833683\n",
       "5              The Irish House                   Bar  18.927797  72.832295\n",
       "6                Golden Dragon    Chinese Restaurant  18.928479  72.832493\n",
       "7                  Burma Burma      Asian Restaurant  18.929590  72.832043\n",
       "8  H Parmesha Fast Food Corner  Fast Food Restaurant  18.930392  72.833549\n",
       "9              Kala Ghoda Café                  Café  18.928515  72.832354"
      ]
     },
     "execution_count": 31,
     "metadata": {},
     "output_type": "execute_result"
    }
   ],
   "source": [
    "venues = results['response']['groups'][0]['items']\n",
    "    \n",
    "SGnearby_venues = json_normalize(venues) # flatten JSON\n",
    "\n",
    "# filter columns\n",
    "filtered_columns = ['venue.name', 'venue.categories', 'venue.location.lat', 'venue.location.lng']\n",
    "SGnearby_venues =SGnearby_venues.loc[:, filtered_columns]\n",
    "\n",
    "# filter the category for each row\n",
    "SGnearby_venues['venue.categories'] = SGnearby_venues.apply(get_category_type, axis=1)\n",
    "\n",
    "# clean columns\n",
    "SGnearby_venues.columns = [col.split(\".\")[-1] for col in SGnearby_venues.columns]\n",
    "\n",
    "SGnearby_venues.head(10)"
   ]
  },
  {
   "cell_type": "markdown",
   "metadata": {},
   "source": [
    "## Map of Mumbai with venues near residence place - for reference "
   ]
  },
  {
   "cell_type": "code",
   "execution_count": 24,
   "metadata": {},
   "outputs": [
    {
     "data": {
      "text/html": [
       "<div style=\"width:100%;\"><div style=\"position:relative;width:100%;height:0;padding-bottom:60%;\"><iframe src=\"about:blank\" style=\"position:absolute;width:100%;height:100%;left:0;top:0;border:none !important;\" data-html=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 onload=\"this.contentDocument.open();this.contentDocument.write(atob(this.getAttribute('data-html')));this.contentDocument.close();\" allowfullscreen webkitallowfullscreen mozallowfullscreen></iframe></div></div>"
      ],
      "text/plain": [
       "<folium.folium.Map at 0x1f457cbbb88>"
      ]
     },
     "execution_count": 24,
     "metadata": {},
     "output_type": "execute_result"
    }
   ],
   "source": [
    "# create map of Singapore place  using latitude and longitude values\n",
    "map_sg = folium.Map(location=[latitude, longitude], zoom_start=20)\n",
    "\n",
    "# add markers to map\n",
    "for lat, lng, label in zip(SGnearby_venues['lat'], SGnearby_venues['lng'], SGnearby_venues['name']):\n",
    "    label = folium.Popup(label, parse_html=True)\n",
    "    folium.RegularPolygonMarker(\n",
    "        [lat, lng],\n",
    "        number_of_sides=4,\n",
    "        radius=10,\n",
    "        popup=label,\n",
    "        color='blue',\n",
    "        fill_color='#0f0f0f',\n",
    "        fill_opacity=0.7,\n",
    "    ).add_to(map_sg)  \n",
    "    \n",
    "map_sg"
   ]
  }
 ],
 "metadata": {
  "kernelspec": {
   "display_name": "Python 3",
   "language": "python",
   "name": "python3"
  },
  "language_info": {
   "codemirror_mode": {
    "name": "ipython",
    "version": 3
   },
   "file_extension": ".py",
   "mimetype": "text/x-python",
   "name": "python",
   "nbconvert_exporter": "python",
   "pygments_lexer": "ipython3",
   "version": "3.7.6"
  }
 },
 "nbformat": 4,
 "nbformat_minor": 2
}
